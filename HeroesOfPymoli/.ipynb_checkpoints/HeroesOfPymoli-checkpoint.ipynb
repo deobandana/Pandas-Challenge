{
 "cells": [
  {
   "cell_type": "code",
   "execution_count": 1,
   "metadata": {},
   "outputs": [],
   "source": [
    "# Importing panda\n",
    "import pandas as pd \n",
    "\n",
    "# storing csv file path in variable\n",
    "path = \"Resources/purchase_data.csv\"\n",
    "\n",
    "#Read Purchasing File and store into pandas data frame\n",
    "purchase = pd.read_csv(path)\n",
    "\n",
    "\n"
   ]
  },
  {
   "cell_type": "code",
   "execution_count": 2,
   "metadata": {},
   "outputs": [
    {
     "data": {
      "text/html": [
       "<div>\n",
       "<style scoped>\n",
       "    .dataframe tbody tr th:only-of-type {\n",
       "        vertical-align: middle;\n",
       "    }\n",
       "\n",
       "    .dataframe tbody tr th {\n",
       "        vertical-align: top;\n",
       "    }\n",
       "\n",
       "    .dataframe thead th {\n",
       "        text-align: right;\n",
       "    }\n",
       "</style>\n",
       "<table border=\"1\" class=\"dataframe\">\n",
       "  <thead>\n",
       "    <tr style=\"text-align: right;\">\n",
       "      <th></th>\n",
       "      <th>Purchase ID</th>\n",
       "      <th>SN</th>\n",
       "      <th>Age</th>\n",
       "      <th>Gender</th>\n",
       "      <th>Item ID</th>\n",
       "      <th>Item Name</th>\n",
       "      <th>Price</th>\n",
       "    </tr>\n",
       "  </thead>\n",
       "  <tbody>\n",
       "    <tr>\n",
       "      <th>0</th>\n",
       "      <td>0</td>\n",
       "      <td>Lisim78</td>\n",
       "      <td>20</td>\n",
       "      <td>Male</td>\n",
       "      <td>108</td>\n",
       "      <td>Extraction, Quickblade Of Trembling Hands</td>\n",
       "      <td>3.53</td>\n",
       "    </tr>\n",
       "    <tr>\n",
       "      <th>1</th>\n",
       "      <td>1</td>\n",
       "      <td>Lisovynya38</td>\n",
       "      <td>40</td>\n",
       "      <td>Male</td>\n",
       "      <td>143</td>\n",
       "      <td>Frenzied Scimitar</td>\n",
       "      <td>1.56</td>\n",
       "    </tr>\n",
       "    <tr>\n",
       "      <th>2</th>\n",
       "      <td>2</td>\n",
       "      <td>Ithergue48</td>\n",
       "      <td>24</td>\n",
       "      <td>Male</td>\n",
       "      <td>92</td>\n",
       "      <td>Final Critic</td>\n",
       "      <td>4.88</td>\n",
       "    </tr>\n",
       "    <tr>\n",
       "      <th>3</th>\n",
       "      <td>3</td>\n",
       "      <td>Chamassasya86</td>\n",
       "      <td>24</td>\n",
       "      <td>Male</td>\n",
       "      <td>100</td>\n",
       "      <td>Blindscythe</td>\n",
       "      <td>3.27</td>\n",
       "    </tr>\n",
       "    <tr>\n",
       "      <th>4</th>\n",
       "      <td>4</td>\n",
       "      <td>Iskosia90</td>\n",
       "      <td>23</td>\n",
       "      <td>Male</td>\n",
       "      <td>131</td>\n",
       "      <td>Fury</td>\n",
       "      <td>1.44</td>\n",
       "    </tr>\n",
       "  </tbody>\n",
       "</table>\n",
       "</div>"
      ],
      "text/plain": [
       "   Purchase ID             SN  Age Gender  Item ID  \\\n",
       "0            0        Lisim78   20   Male      108   \n",
       "1            1    Lisovynya38   40   Male      143   \n",
       "2            2     Ithergue48   24   Male       92   \n",
       "3            3  Chamassasya86   24   Male      100   \n",
       "4            4      Iskosia90   23   Male      131   \n",
       "\n",
       "                                   Item Name  Price  \n",
       "0  Extraction, Quickblade Of Trembling Hands   3.53  \n",
       "1                          Frenzied Scimitar   1.56  \n",
       "2                               Final Critic   4.88  \n",
       "3                                Blindscythe   3.27  \n",
       "4                                       Fury   1.44  "
      ]
     },
     "execution_count": 2,
     "metadata": {},
     "output_type": "execute_result"
    }
   ],
   "source": [
    "purchase_df = pd.DataFrame(purchase)\n",
    "purchase_df.head()"
   ]
  },
  {
   "cell_type": "markdown",
   "metadata": {},
   "source": [
    "## Player Count"
   ]
  },
  {
   "cell_type": "markdown",
   "metadata": {},
   "source": [
    "* Display the total number of players\n"
   ]
  },
  {
   "cell_type": "code",
   "execution_count": 3,
   "metadata": {},
   "outputs": [
    {
     "data": {
      "text/html": [
       "<div>\n",
       "<style scoped>\n",
       "    .dataframe tbody tr th:only-of-type {\n",
       "        vertical-align: middle;\n",
       "    }\n",
       "\n",
       "    .dataframe tbody tr th {\n",
       "        vertical-align: top;\n",
       "    }\n",
       "\n",
       "    .dataframe thead th {\n",
       "        text-align: right;\n",
       "    }\n",
       "</style>\n",
       "<table border=\"1\" class=\"dataframe\">\n",
       "  <thead>\n",
       "    <tr style=\"text-align: right;\">\n",
       "      <th></th>\n",
       "      <th>Total Players</th>\n",
       "    </tr>\n",
       "  </thead>\n",
       "  <tbody>\n",
       "    <tr>\n",
       "      <th>0</th>\n",
       "      <td>576</td>\n",
       "    </tr>\n",
       "  </tbody>\n",
       "</table>\n",
       "</div>"
      ],
      "text/plain": [
       "   Total Players\n",
       "0            576"
      ]
     },
     "execution_count": 3,
     "metadata": {},
     "output_type": "execute_result"
    }
   ],
   "source": [
    "#Counting the total no of players and adding it in to data frame\n",
    "\n",
    "Total_Players = len(purchase[\"SN\"].value_counts())\n",
    "\n",
    "Total_Count = pd.DataFrame({\"Total Players\":[Total_Players]})\n",
    "Total_Count"
   ]
  },
  {
   "cell_type": "markdown",
   "metadata": {},
   "source": [
    "## Purchasing Analysis (Total)"
   ]
  },
  {
   "cell_type": "markdown",
   "metadata": {},
   "source": [
    "* Run basic calculations to obtain number of unique items, average price, etc.\n",
    "\n",
    "\n",
    "* Create a summary data frame to hold the results\n",
    "\n",
    "\n",
    "* Optional: give the displayed data cleaner formatting\n",
    "\n",
    "\n",
    "* Display the summary data frame\n"
   ]
  },
  {
   "cell_type": "code",
   "execution_count": 4,
   "metadata": {
    "scrolled": true
   },
   "outputs": [],
   "source": [
    "Unique_Items = purchase[\"Item ID\"].nunique() # nunique gives the total no of unique items"
   ]
  },
  {
   "cell_type": "code",
   "execution_count": 5,
   "metadata": {},
   "outputs": [],
   "source": [
    "Average_Price = round(purchase[\"Price\"].mean(),2) #Mean helps to find Average  and round helps to round the number after decimal"
   ]
  },
  {
   "cell_type": "code",
   "execution_count": 6,
   "metadata": {},
   "outputs": [],
   "source": [
    "Total_purchases_count = purchase[\"Purchase ID\"].count() #count is used for counting total item"
   ]
  },
  {
   "cell_type": "code",
   "execution_count": 7,
   "metadata": {},
   "outputs": [],
   "source": [
    "Total_Revenue = purchase[\"Price\"].sum()"
   ]
  },
  {
   "cell_type": "code",
   "execution_count": 8,
   "metadata": {},
   "outputs": [
    {
     "data": {
      "text/html": [
       "<style  type=\"text/css\" >\n",
       "</style><table id=\"T_7917e8f6_c4b8_11ea_a080_10f0052a847d\" ><thead>    <tr>        <th class=\"blank level0\" ></th>        <th class=\"col_heading level0 col0\" >Number of Unique Items</th>        <th class=\"col_heading level0 col1\" >Average Price</th>        <th class=\"col_heading level0 col2\" >Number of Purchases</th>        <th class=\"col_heading level0 col3\" >Total Revenue</th>    </tr></thead><tbody>\n",
       "                <tr>\n",
       "                        <th id=\"T_7917e8f6_c4b8_11ea_a080_10f0052a847dlevel0_row0\" class=\"row_heading level0 row0\" >0</th>\n",
       "                        <td id=\"T_7917e8f6_c4b8_11ea_a080_10f0052a847drow0_col0\" class=\"data row0 col0\" >179</td>\n",
       "                        <td id=\"T_7917e8f6_c4b8_11ea_a080_10f0052a847drow0_col1\" class=\"data row0 col1\" >$3.05</td>\n",
       "                        <td id=\"T_7917e8f6_c4b8_11ea_a080_10f0052a847drow0_col2\" class=\"data row0 col2\" >780</td>\n",
       "                        <td id=\"T_7917e8f6_c4b8_11ea_a080_10f0052a847drow0_col3\" class=\"data row0 col3\" >$2,379.77</td>\n",
       "            </tr>\n",
       "    </tbody></table>"
      ],
      "text/plain": [
       "<pandas.io.formats.style.Styler at 0x2088c06cf48>"
      ]
     },
     "execution_count": 8,
     "metadata": {},
     "output_type": "execute_result"
    }
   ],
   "source": [
    "Summary_df = pd.DataFrame({\"Number of Unique Items\":[Unique_Items],\n",
    "                           \"Average Price\":[Average_Price], \n",
    "                           \"Number of Purchases\": [Total_purchases_count], \n",
    "                           \"Total Revenue\": [Total_Revenue]})\n",
    "\n",
    "Summary_df.style.format({'Average Price':\"${:,.2f}\",\n",
    "                        'Total Revenue': '${:,.2f}'})"
   ]
  },
  {
   "cell_type": "markdown",
   "metadata": {},
   "source": [
    "## Gender Demographics"
   ]
  },
  {
   "cell_type": "markdown",
   "metadata": {},
   "source": [
    "* Percentage and Count of Male Players\n",
    "\n",
    "\n",
    "* Percentage and Count of Female Players\n",
    "\n",
    "\n",
    "* Percentage and Count of Other / Non-Disclosed\n",
    "\n",
    "\n"
   ]
  },
  {
   "cell_type": "code",
   "execution_count": 9,
   "metadata": {},
   "outputs": [],
   "source": [
    "Count_by_Gender = purchase_df.groupby(\"Gender\")[\"SN\"].nunique()"
   ]
  },
  {
   "cell_type": "code",
   "execution_count": 10,
   "metadata": {},
   "outputs": [],
   "source": [
    "Percent_by_gender = ((Count_by_Gender  * 100)/  Total_Players)"
   ]
  },
  {
   "cell_type": "code",
   "execution_count": 11,
   "metadata": {},
   "outputs": [
    {
     "data": {
      "text/html": [
       "<style  type=\"text/css\" >\n",
       "</style><table id=\"T_7b07e406_c4b8_11ea_97be_10f0052a847d\" ><thead>    <tr>        <th class=\"blank level0\" ></th>        <th class=\"col_heading level0 col0\" >Total Count</th>        <th class=\"col_heading level0 col1\" >Percentage of Players</th>    </tr>    <tr>        <th class=\"index_name level0\" >Gender</th>        <th class=\"blank\" ></th>        <th class=\"blank\" ></th>    </tr></thead><tbody>\n",
       "                <tr>\n",
       "                        <th id=\"T_7b07e406_c4b8_11ea_97be_10f0052a847dlevel0_row0\" class=\"row_heading level0 row0\" >Male</th>\n",
       "                        <td id=\"T_7b07e406_c4b8_11ea_97be_10f0052a847drow0_col0\" class=\"data row0 col0\" >484</td>\n",
       "                        <td id=\"T_7b07e406_c4b8_11ea_97be_10f0052a847drow0_col1\" class=\"data row0 col1\" >84.03%</td>\n",
       "            </tr>\n",
       "            <tr>\n",
       "                        <th id=\"T_7b07e406_c4b8_11ea_97be_10f0052a847dlevel0_row1\" class=\"row_heading level0 row1\" >Female</th>\n",
       "                        <td id=\"T_7b07e406_c4b8_11ea_97be_10f0052a847drow1_col0\" class=\"data row1 col0\" >81</td>\n",
       "                        <td id=\"T_7b07e406_c4b8_11ea_97be_10f0052a847drow1_col1\" class=\"data row1 col1\" >14.06%</td>\n",
       "            </tr>\n",
       "            <tr>\n",
       "                        <th id=\"T_7b07e406_c4b8_11ea_97be_10f0052a847dlevel0_row2\" class=\"row_heading level0 row2\" >Other / Non-Disclosed</th>\n",
       "                        <td id=\"T_7b07e406_c4b8_11ea_97be_10f0052a847drow2_col0\" class=\"data row2 col0\" >11</td>\n",
       "                        <td id=\"T_7b07e406_c4b8_11ea_97be_10f0052a847drow2_col1\" class=\"data row2 col1\" >1.91%</td>\n",
       "            </tr>\n",
       "    </tbody></table>"
      ],
      "text/plain": [
       "<pandas.io.formats.style.Styler at 0x2088cecf688>"
      ]
     },
     "execution_count": 11,
     "metadata": {},
     "output_type": "execute_result"
    }
   ],
   "source": [
    "Gender_demographics = pd.DataFrame({\"Total Count\": Count_by_Gender,\"Percentage of Players\": Percent_by_gender})\n",
    "Gender_demographics.sort_values([\"Percentage of Players\"], ascending = False).style.format({\"Percentage of Players\":\"{:.2f}%\"})\n"
   ]
  },
  {
   "cell_type": "markdown",
   "metadata": {},
   "source": [
    "\n",
    "## Purchasing Analysis (Gender)"
   ]
  },
  {
   "cell_type": "markdown",
   "metadata": {},
   "source": [
    "* Run basic calculations to obtain purchase count, avg. purchase price, avg. purchase total per person etc. by gender\n",
    "\n",
    "\n",
    "\n",
    "\n",
    "* Create a summary data frame to hold the results\n",
    "\n",
    "\n",
    "* Optional: give the displayed data cleaner formatting\n",
    "\n",
    "\n",
    "* Display the summary data frame"
   ]
  },
  {
   "cell_type": "code",
   "execution_count": 12,
   "metadata": {
    "scrolled": true
   },
   "outputs": [],
   "source": [
    "Count_purchase_by_gender = purchase_df.groupby(\"Gender\")[\"Purchase ID\"].nunique()"
   ]
  },
  {
   "cell_type": "code",
   "execution_count": 13,
   "metadata": {},
   "outputs": [],
   "source": [
    "Avg_Purchase_Price = purchase_df.groupby(\"Gender\")[\"Price\"].mean().round(2)"
   ]
  },
  {
   "cell_type": "code",
   "execution_count": 14,
   "metadata": {},
   "outputs": [],
   "source": [
    "Total_Purchase_Value = purchase_df.groupby(\"Gender\")[\"Price\"].sum()"
   ]
  },
  {
   "cell_type": "code",
   "execution_count": 15,
   "metadata": {},
   "outputs": [],
   "source": [
    "Avg_Total_Purchase_Person = Total_Purchase_Value / Count_by_Gender"
   ]
  },
  {
   "cell_type": "code",
   "execution_count": 16,
   "metadata": {},
   "outputs": [
    {
     "data": {
      "text/html": [
       "<style  type=\"text/css\" >\n",
       "</style><table id=\"T_7cc515ee_c4b8_11ea_96d1_10f0052a847d\" ><thead>    <tr>        <th class=\"blank level0\" ></th>        <th class=\"col_heading level0 col0\" >Purchase Count</th>        <th class=\"col_heading level0 col1\" >Average Purchase Price</th>        <th class=\"col_heading level0 col2\" >Total Purchase Value</th>        <th class=\"col_heading level0 col3\" >Avg Total Purchase per Person</th>    </tr>    <tr>        <th class=\"index_name level0\" >Gender</th>        <th class=\"blank\" ></th>        <th class=\"blank\" ></th>        <th class=\"blank\" ></th>        <th class=\"blank\" ></th>    </tr></thead><tbody>\n",
       "                <tr>\n",
       "                        <th id=\"T_7cc515ee_c4b8_11ea_96d1_10f0052a847dlevel0_row0\" class=\"row_heading level0 row0\" >Female</th>\n",
       "                        <td id=\"T_7cc515ee_c4b8_11ea_96d1_10f0052a847drow0_col0\" class=\"data row0 col0\" >113</td>\n",
       "                        <td id=\"T_7cc515ee_c4b8_11ea_96d1_10f0052a847drow0_col1\" class=\"data row0 col1\" >$3.20</td>\n",
       "                        <td id=\"T_7cc515ee_c4b8_11ea_96d1_10f0052a847drow0_col2\" class=\"data row0 col2\" >$361.94</td>\n",
       "                        <td id=\"T_7cc515ee_c4b8_11ea_96d1_10f0052a847drow0_col3\" class=\"data row0 col3\" >$4.47</td>\n",
       "            </tr>\n",
       "            <tr>\n",
       "                        <th id=\"T_7cc515ee_c4b8_11ea_96d1_10f0052a847dlevel0_row1\" class=\"row_heading level0 row1\" >Male</th>\n",
       "                        <td id=\"T_7cc515ee_c4b8_11ea_96d1_10f0052a847drow1_col0\" class=\"data row1 col0\" >652</td>\n",
       "                        <td id=\"T_7cc515ee_c4b8_11ea_96d1_10f0052a847drow1_col1\" class=\"data row1 col1\" >$3.02</td>\n",
       "                        <td id=\"T_7cc515ee_c4b8_11ea_96d1_10f0052a847drow1_col2\" class=\"data row1 col2\" >$1,967.64</td>\n",
       "                        <td id=\"T_7cc515ee_c4b8_11ea_96d1_10f0052a847drow1_col3\" class=\"data row1 col3\" >$4.07</td>\n",
       "            </tr>\n",
       "            <tr>\n",
       "                        <th id=\"T_7cc515ee_c4b8_11ea_96d1_10f0052a847dlevel0_row2\" class=\"row_heading level0 row2\" >Other / Non-Disclosed</th>\n",
       "                        <td id=\"T_7cc515ee_c4b8_11ea_96d1_10f0052a847drow2_col0\" class=\"data row2 col0\" >15</td>\n",
       "                        <td id=\"T_7cc515ee_c4b8_11ea_96d1_10f0052a847drow2_col1\" class=\"data row2 col1\" >$3.35</td>\n",
       "                        <td id=\"T_7cc515ee_c4b8_11ea_96d1_10f0052a847drow2_col2\" class=\"data row2 col2\" >$50.19</td>\n",
       "                        <td id=\"T_7cc515ee_c4b8_11ea_96d1_10f0052a847drow2_col3\" class=\"data row2 col3\" >$4.56</td>\n",
       "            </tr>\n",
       "    </tbody></table>"
      ],
      "text/plain": [
       "<pandas.io.formats.style.Styler at 0x2088ced74c8>"
      ]
     },
     "execution_count": 16,
     "metadata": {},
     "output_type": "execute_result"
    }
   ],
   "source": [
    "Purchasing_Analysis_by_Gender = pd.DataFrame({\"Purchase Count\": Count_purchase_by_gender, \n",
    "                                    \"Average Purchase Price\": Avg_Purchase_Price,\n",
    "                                    \"Total Purchase Value\":Total_Purchase_Value,\n",
    "                                    \"Avg Total Purchase per Person\": Avg_Total_Purchase_Person})\n",
    "# Assign Gender at the top let of the corner\n",
    "Purchasing_Analysis_by_Gender.index.name = \"Gender\"\n",
    "\n",
    "\n",
    "Purchasing_Analysis_by_Gender.style.format({\"Total Purchase Value\":\"${:,.2f}\",\n",
    "                                  \"Average Purchase Price\":\"${:,.2f}\",\n",
    "                                 \"Avg Total Purchase per Person\":\"${:,.2f}\"})"
   ]
  },
  {
   "cell_type": "markdown",
   "metadata": {},
   "source": [
    "## Age Demographics"
   ]
  },
  {
   "cell_type": "markdown",
   "metadata": {},
   "source": [
    "* Establish bins for ages\n",
    "\n",
    "\n",
    "* Categorize the existing players using the age bins. Hint: use pd.cut()\n",
    "\n",
    "\n",
    "* Calculate the numbers and percentages by age group\n",
    "\n",
    "\n",
    "* Create a summary data frame to hold the results\n",
    "\n",
    "\n",
    "* Optional: round the percentage column to two decimal points\n",
    "\n",
    "\n",
    "* Display Age Demographics Table\n"
   ]
  },
  {
   "cell_type": "code",
   "execution_count": 17,
   "metadata": {},
   "outputs": [],
   "source": [
    "bins=[0,9,14,19,24,29,34,39,999]\n",
    "Range=['<10','10 - 14','15 - 19','20 - 24','25 - 29','30 - 34','35 - 39','40+']"
   ]
  },
  {
   "cell_type": "code",
   "execution_count": 18,
   "metadata": {},
   "outputs": [],
   "source": [
    "Bins_data =purchase_df.groupby (pd.cut(purchase_df['Age'], bins=bins,labels=Range)).nunique()\n",
    "Percentage_age=(Bins_data['SN']/Total_Players)*100"
   ]
  },
  {
   "cell_type": "code",
   "execution_count": 19,
   "metadata": {},
   "outputs": [
    {
     "data": {
      "text/html": [
       "<style  type=\"text/css\" >\n",
       "</style><table id=\"T_7f11b7ba_c4b8_11ea_8f40_10f0052a847d\" ><thead>    <tr>        <th class=\"blank level0\" ></th>        <th class=\"col_heading level0 col0\" >Total Count</th>        <th class=\"col_heading level0 col1\" >Percentage of Players</th>    </tr>    <tr>        <th class=\"index_name level0\" >Age</th>        <th class=\"blank\" ></th>        <th class=\"blank\" ></th>    </tr></thead><tbody>\n",
       "                <tr>\n",
       "                        <th id=\"T_7f11b7ba_c4b8_11ea_8f40_10f0052a847dlevel0_row0\" class=\"row_heading level0 row0\" ><10</th>\n",
       "                        <td id=\"T_7f11b7ba_c4b8_11ea_8f40_10f0052a847drow0_col0\" class=\"data row0 col0\" >17</td>\n",
       "                        <td id=\"T_7f11b7ba_c4b8_11ea_8f40_10f0052a847drow0_col1\" class=\"data row0 col1\" >2.95%</td>\n",
       "            </tr>\n",
       "            <tr>\n",
       "                        <th id=\"T_7f11b7ba_c4b8_11ea_8f40_10f0052a847dlevel0_row1\" class=\"row_heading level0 row1\" >10 - 14</th>\n",
       "                        <td id=\"T_7f11b7ba_c4b8_11ea_8f40_10f0052a847drow1_col0\" class=\"data row1 col0\" >22</td>\n",
       "                        <td id=\"T_7f11b7ba_c4b8_11ea_8f40_10f0052a847drow1_col1\" class=\"data row1 col1\" >3.82%</td>\n",
       "            </tr>\n",
       "            <tr>\n",
       "                        <th id=\"T_7f11b7ba_c4b8_11ea_8f40_10f0052a847dlevel0_row2\" class=\"row_heading level0 row2\" >15 - 19</th>\n",
       "                        <td id=\"T_7f11b7ba_c4b8_11ea_8f40_10f0052a847drow2_col0\" class=\"data row2 col0\" >107</td>\n",
       "                        <td id=\"T_7f11b7ba_c4b8_11ea_8f40_10f0052a847drow2_col1\" class=\"data row2 col1\" >18.58%</td>\n",
       "            </tr>\n",
       "            <tr>\n",
       "                        <th id=\"T_7f11b7ba_c4b8_11ea_8f40_10f0052a847dlevel0_row3\" class=\"row_heading level0 row3\" >20 - 24</th>\n",
       "                        <td id=\"T_7f11b7ba_c4b8_11ea_8f40_10f0052a847drow3_col0\" class=\"data row3 col0\" >258</td>\n",
       "                        <td id=\"T_7f11b7ba_c4b8_11ea_8f40_10f0052a847drow3_col1\" class=\"data row3 col1\" >44.79%</td>\n",
       "            </tr>\n",
       "            <tr>\n",
       "                        <th id=\"T_7f11b7ba_c4b8_11ea_8f40_10f0052a847dlevel0_row4\" class=\"row_heading level0 row4\" >25 - 29</th>\n",
       "                        <td id=\"T_7f11b7ba_c4b8_11ea_8f40_10f0052a847drow4_col0\" class=\"data row4 col0\" >77</td>\n",
       "                        <td id=\"T_7f11b7ba_c4b8_11ea_8f40_10f0052a847drow4_col1\" class=\"data row4 col1\" >13.37%</td>\n",
       "            </tr>\n",
       "            <tr>\n",
       "                        <th id=\"T_7f11b7ba_c4b8_11ea_8f40_10f0052a847dlevel0_row5\" class=\"row_heading level0 row5\" >30 - 34</th>\n",
       "                        <td id=\"T_7f11b7ba_c4b8_11ea_8f40_10f0052a847drow5_col0\" class=\"data row5 col0\" >52</td>\n",
       "                        <td id=\"T_7f11b7ba_c4b8_11ea_8f40_10f0052a847drow5_col1\" class=\"data row5 col1\" >9.03%</td>\n",
       "            </tr>\n",
       "            <tr>\n",
       "                        <th id=\"T_7f11b7ba_c4b8_11ea_8f40_10f0052a847dlevel0_row6\" class=\"row_heading level0 row6\" >35 - 39</th>\n",
       "                        <td id=\"T_7f11b7ba_c4b8_11ea_8f40_10f0052a847drow6_col0\" class=\"data row6 col0\" >31</td>\n",
       "                        <td id=\"T_7f11b7ba_c4b8_11ea_8f40_10f0052a847drow6_col1\" class=\"data row6 col1\" >5.38%</td>\n",
       "            </tr>\n",
       "            <tr>\n",
       "                        <th id=\"T_7f11b7ba_c4b8_11ea_8f40_10f0052a847dlevel0_row7\" class=\"row_heading level0 row7\" >40+</th>\n",
       "                        <td id=\"T_7f11b7ba_c4b8_11ea_8f40_10f0052a847drow7_col0\" class=\"data row7 col0\" >12</td>\n",
       "                        <td id=\"T_7f11b7ba_c4b8_11ea_8f40_10f0052a847drow7_col1\" class=\"data row7 col1\" >2.08%</td>\n",
       "            </tr>\n",
       "    </tbody></table>"
      ],
      "text/plain": [
       "<pandas.io.formats.style.Styler at 0x2088cef3e88>"
      ]
     },
     "execution_count": 19,
     "metadata": {},
     "output_type": "execute_result"
    }
   ],
   "source": [
    "Age_Demographics = pd.DataFrame({\"Total Count\": Bins_data[\"SN\"], \n",
    "                                    \"Percentage of Players\": Percentage_age,\n",
    "                                   })\n",
    "Age_Demographics.style.format({\"Percentage of Players\":\"{:,.2f}\"+\"%\"})"
   ]
  },
  {
   "cell_type": "markdown",
   "metadata": {},
   "source": [
    "## Purchasing Analysis (Age)"
   ]
  },
  {
   "cell_type": "markdown",
   "metadata": {},
   "source": [
    "* Bin the purchase_data data frame by age\n",
    "\n",
    "\n",
    "* Run basic calculations to obtain purchase count, avg. purchase price, avg. purchase total per person etc. in the table below\n",
    "\n",
    "\n",
    "* Create a summary data frame to hold the results\n",
    "\n",
    "\n",
    "* Optional: give the displayed data cleaner formatting\n",
    "\n",
    "\n",
    "* Display the summary data frame"
   ]
  },
  {
   "cell_type": "code",
   "execution_count": 20,
   "metadata": {},
   "outputs": [],
   "source": [
    "Count_by_Age = Bins_data [\"Purchase ID\"]"
   ]
  },
  {
   "cell_type": "code",
   "execution_count": 21,
   "metadata": {},
   "outputs": [],
   "source": [
    "Average_Purchase_Price_by_Age =purchase_df.groupby (pd.cut(purchase_df['Age'], bins=bins, labels=Range)).mean()"
   ]
  },
  {
   "cell_type": "code",
   "execution_count": 22,
   "metadata": {},
   "outputs": [],
   "source": [
    "Total_Purchase_Price_by_Age =purchase_df.groupby (pd.cut(purchase_df['Age'], bins=bins, labels=Range)).sum()"
   ]
  },
  {
   "cell_type": "code",
   "execution_count": 23,
   "metadata": {},
   "outputs": [],
   "source": [
    "Avg_Total_Purchase_Person_by_Age = Total_Purchase_Price_by_Age[\"Price\"] / Bins_data[\"SN\"]"
   ]
  },
  {
   "cell_type": "code",
   "execution_count": 24,
   "metadata": {},
   "outputs": [
    {
     "data": {
      "text/html": [
       "<style  type=\"text/css\" >\n",
       "</style><table id=\"T_8104e136_c4b8_11ea_bc55_10f0052a847d\" ><thead>    <tr>        <th class=\"blank level0\" ></th>        <th class=\"col_heading level0 col0\" >Purchase Count</th>        <th class=\"col_heading level0 col1\" >Average Purchase Price</th>        <th class=\"col_heading level0 col2\" >Total Purchase Value</th>        <th class=\"col_heading level0 col3\" >Avg Total Purchase per Person</th>    </tr>    <tr>        <th class=\"index_name level0\" >Age</th>        <th class=\"blank\" ></th>        <th class=\"blank\" ></th>        <th class=\"blank\" ></th>        <th class=\"blank\" ></th>    </tr></thead><tbody>\n",
       "                <tr>\n",
       "                        <th id=\"T_8104e136_c4b8_11ea_bc55_10f0052a847dlevel0_row0\" class=\"row_heading level0 row0\" ><10</th>\n",
       "                        <td id=\"T_8104e136_c4b8_11ea_bc55_10f0052a847drow0_col0\" class=\"data row0 col0\" >23</td>\n",
       "                        <td id=\"T_8104e136_c4b8_11ea_bc55_10f0052a847drow0_col1\" class=\"data row0 col1\" >$3.35</td>\n",
       "                        <td id=\"T_8104e136_c4b8_11ea_bc55_10f0052a847drow0_col2\" class=\"data row0 col2\" >$77.13</td>\n",
       "                        <td id=\"T_8104e136_c4b8_11ea_bc55_10f0052a847drow0_col3\" class=\"data row0 col3\" >$4.54</td>\n",
       "            </tr>\n",
       "            <tr>\n",
       "                        <th id=\"T_8104e136_c4b8_11ea_bc55_10f0052a847dlevel0_row1\" class=\"row_heading level0 row1\" >10 - 14</th>\n",
       "                        <td id=\"T_8104e136_c4b8_11ea_bc55_10f0052a847drow1_col0\" class=\"data row1 col0\" >28</td>\n",
       "                        <td id=\"T_8104e136_c4b8_11ea_bc55_10f0052a847drow1_col1\" class=\"data row1 col1\" >$2.96</td>\n",
       "                        <td id=\"T_8104e136_c4b8_11ea_bc55_10f0052a847drow1_col2\" class=\"data row1 col2\" >$82.78</td>\n",
       "                        <td id=\"T_8104e136_c4b8_11ea_bc55_10f0052a847drow1_col3\" class=\"data row1 col3\" >$3.76</td>\n",
       "            </tr>\n",
       "            <tr>\n",
       "                        <th id=\"T_8104e136_c4b8_11ea_bc55_10f0052a847dlevel0_row2\" class=\"row_heading level0 row2\" >15 - 19</th>\n",
       "                        <td id=\"T_8104e136_c4b8_11ea_bc55_10f0052a847drow2_col0\" class=\"data row2 col0\" >136</td>\n",
       "                        <td id=\"T_8104e136_c4b8_11ea_bc55_10f0052a847drow2_col1\" class=\"data row2 col1\" >$3.04</td>\n",
       "                        <td id=\"T_8104e136_c4b8_11ea_bc55_10f0052a847drow2_col2\" class=\"data row2 col2\" >$412.89</td>\n",
       "                        <td id=\"T_8104e136_c4b8_11ea_bc55_10f0052a847drow2_col3\" class=\"data row2 col3\" >$3.86</td>\n",
       "            </tr>\n",
       "            <tr>\n",
       "                        <th id=\"T_8104e136_c4b8_11ea_bc55_10f0052a847dlevel0_row3\" class=\"row_heading level0 row3\" >20 - 24</th>\n",
       "                        <td id=\"T_8104e136_c4b8_11ea_bc55_10f0052a847drow3_col0\" class=\"data row3 col0\" >365</td>\n",
       "                        <td id=\"T_8104e136_c4b8_11ea_bc55_10f0052a847drow3_col1\" class=\"data row3 col1\" >$3.05</td>\n",
       "                        <td id=\"T_8104e136_c4b8_11ea_bc55_10f0052a847drow3_col2\" class=\"data row3 col2\" >$1,114.06</td>\n",
       "                        <td id=\"T_8104e136_c4b8_11ea_bc55_10f0052a847drow3_col3\" class=\"data row3 col3\" >$4.32</td>\n",
       "            </tr>\n",
       "            <tr>\n",
       "                        <th id=\"T_8104e136_c4b8_11ea_bc55_10f0052a847dlevel0_row4\" class=\"row_heading level0 row4\" >25 - 29</th>\n",
       "                        <td id=\"T_8104e136_c4b8_11ea_bc55_10f0052a847drow4_col0\" class=\"data row4 col0\" >101</td>\n",
       "                        <td id=\"T_8104e136_c4b8_11ea_bc55_10f0052a847drow4_col1\" class=\"data row4 col1\" >$2.90</td>\n",
       "                        <td id=\"T_8104e136_c4b8_11ea_bc55_10f0052a847drow4_col2\" class=\"data row4 col2\" >$293.00</td>\n",
       "                        <td id=\"T_8104e136_c4b8_11ea_bc55_10f0052a847drow4_col3\" class=\"data row4 col3\" >$3.81</td>\n",
       "            </tr>\n",
       "            <tr>\n",
       "                        <th id=\"T_8104e136_c4b8_11ea_bc55_10f0052a847dlevel0_row5\" class=\"row_heading level0 row5\" >30 - 34</th>\n",
       "                        <td id=\"T_8104e136_c4b8_11ea_bc55_10f0052a847drow5_col0\" class=\"data row5 col0\" >73</td>\n",
       "                        <td id=\"T_8104e136_c4b8_11ea_bc55_10f0052a847drow5_col1\" class=\"data row5 col1\" >$2.93</td>\n",
       "                        <td id=\"T_8104e136_c4b8_11ea_bc55_10f0052a847drow5_col2\" class=\"data row5 col2\" >$214.00</td>\n",
       "                        <td id=\"T_8104e136_c4b8_11ea_bc55_10f0052a847drow5_col3\" class=\"data row5 col3\" >$4.12</td>\n",
       "            </tr>\n",
       "            <tr>\n",
       "                        <th id=\"T_8104e136_c4b8_11ea_bc55_10f0052a847dlevel0_row6\" class=\"row_heading level0 row6\" >35 - 39</th>\n",
       "                        <td id=\"T_8104e136_c4b8_11ea_bc55_10f0052a847drow6_col0\" class=\"data row6 col0\" >41</td>\n",
       "                        <td id=\"T_8104e136_c4b8_11ea_bc55_10f0052a847drow6_col1\" class=\"data row6 col1\" >$3.60</td>\n",
       "                        <td id=\"T_8104e136_c4b8_11ea_bc55_10f0052a847drow6_col2\" class=\"data row6 col2\" >$147.67</td>\n",
       "                        <td id=\"T_8104e136_c4b8_11ea_bc55_10f0052a847drow6_col3\" class=\"data row6 col3\" >$4.76</td>\n",
       "            </tr>\n",
       "            <tr>\n",
       "                        <th id=\"T_8104e136_c4b8_11ea_bc55_10f0052a847dlevel0_row7\" class=\"row_heading level0 row7\" >40+</th>\n",
       "                        <td id=\"T_8104e136_c4b8_11ea_bc55_10f0052a847drow7_col0\" class=\"data row7 col0\" >13</td>\n",
       "                        <td id=\"T_8104e136_c4b8_11ea_bc55_10f0052a847drow7_col1\" class=\"data row7 col1\" >$2.94</td>\n",
       "                        <td id=\"T_8104e136_c4b8_11ea_bc55_10f0052a847drow7_col2\" class=\"data row7 col2\" >$38.24</td>\n",
       "                        <td id=\"T_8104e136_c4b8_11ea_bc55_10f0052a847drow7_col3\" class=\"data row7 col3\" >$3.19</td>\n",
       "            </tr>\n",
       "    </tbody></table>"
      ],
      "text/plain": [
       "<pandas.io.formats.style.Styler at 0x2088cf10d88>"
      ]
     },
     "execution_count": 24,
     "metadata": {},
     "output_type": "execute_result"
    }
   ],
   "source": [
    "Purchasing_Analysis_by_Age = pd.DataFrame({\"Purchase Count\": Count_by_Age, \n",
    "                                           \"Average Purchase Price\": Average_Purchase_Price_by_Age['Price'],\n",
    "                                           \"Total Purchase Value\": Total_Purchase_Price_by_Age[\"Price\"],\n",
    "                                           \"Avg Total Purchase per Person\": Avg_Total_Purchase_Person_by_Age\n",
    "                                   })\n",
    "Purchasing_Analysis_by_Age.style.format({\"Average Purchase Price\":\"${:,.2f}\", \"Total Purchase Value\":\"${:,.2f}\", \"Avg Total Purchase per Person\":\"${:,.2f}\"})\n"
   ]
  },
  {
   "cell_type": "markdown",
   "metadata": {},
   "source": [
    "## Top Spenders"
   ]
  },
  {
   "cell_type": "markdown",
   "metadata": {},
   "source": [
    "* Run basic calculations to obtain the results in the table below\n",
    "\n",
    "\n",
    "* Create a summary data frame to hold the results\n",
    "\n",
    "\n",
    "* Sort the total purchase value column in descending order\n",
    "\n",
    "\n",
    "* Optional: give the displayed data cleaner formatting\n",
    "\n",
    "\n",
    "* Display a preview of the summary data frame\n",
    "\n"
   ]
  },
  {
   "cell_type": "code",
   "execution_count": 25,
   "metadata": {},
   "outputs": [],
   "source": [
    "Purchase_Count_Spender = purchase_df.groupby(\"SN\")[\"Purchase ID\"].count()"
   ]
  },
  {
   "cell_type": "code",
   "execution_count": 26,
   "metadata": {},
   "outputs": [],
   "source": [
    "Average_Purchase_Price_Spender = purchase_df.groupby(\"SN\")[\"Price\"].mean()"
   ]
  },
  {
   "cell_type": "code",
   "execution_count": 27,
   "metadata": {},
   "outputs": [],
   "source": [
    "Total_Purchase_Value_Spender = purchase_df.groupby(\"SN\")[\"Price\"].sum()"
   ]
  },
  {
   "cell_type": "code",
   "execution_count": 28,
   "metadata": {},
   "outputs": [
    {
     "data": {
      "text/html": [
       "<style  type=\"text/css\" >\n",
       "</style><table id=\"T_82a27d8a_c4b8_11ea_b1e1_10f0052a847d\" ><thead>    <tr>        <th class=\"blank level0\" ></th>        <th class=\"col_heading level0 col0\" >Purchase Count</th>        <th class=\"col_heading level0 col1\" >Average Purchase Price</th>        <th class=\"col_heading level0 col2\" >Total Purchase Value</th>    </tr>    <tr>        <th class=\"index_name level0\" >SN</th>        <th class=\"blank\" ></th>        <th class=\"blank\" ></th>        <th class=\"blank\" ></th>    </tr></thead><tbody>\n",
       "                <tr>\n",
       "                        <th id=\"T_82a27d8a_c4b8_11ea_b1e1_10f0052a847dlevel0_row0\" class=\"row_heading level0 row0\" >Lisosia93</th>\n",
       "                        <td id=\"T_82a27d8a_c4b8_11ea_b1e1_10f0052a847drow0_col0\" class=\"data row0 col0\" >5</td>\n",
       "                        <td id=\"T_82a27d8a_c4b8_11ea_b1e1_10f0052a847drow0_col1\" class=\"data row0 col1\" >$3.79</td>\n",
       "                        <td id=\"T_82a27d8a_c4b8_11ea_b1e1_10f0052a847drow0_col2\" class=\"data row0 col2\" >$18.96</td>\n",
       "            </tr>\n",
       "            <tr>\n",
       "                        <th id=\"T_82a27d8a_c4b8_11ea_b1e1_10f0052a847dlevel0_row1\" class=\"row_heading level0 row1\" >Idastidru52</th>\n",
       "                        <td id=\"T_82a27d8a_c4b8_11ea_b1e1_10f0052a847drow1_col0\" class=\"data row1 col0\" >4</td>\n",
       "                        <td id=\"T_82a27d8a_c4b8_11ea_b1e1_10f0052a847drow1_col1\" class=\"data row1 col1\" >$3.86</td>\n",
       "                        <td id=\"T_82a27d8a_c4b8_11ea_b1e1_10f0052a847drow1_col2\" class=\"data row1 col2\" >$15.45</td>\n",
       "            </tr>\n",
       "            <tr>\n",
       "                        <th id=\"T_82a27d8a_c4b8_11ea_b1e1_10f0052a847dlevel0_row2\" class=\"row_heading level0 row2\" >Chamjask73</th>\n",
       "                        <td id=\"T_82a27d8a_c4b8_11ea_b1e1_10f0052a847drow2_col0\" class=\"data row2 col0\" >3</td>\n",
       "                        <td id=\"T_82a27d8a_c4b8_11ea_b1e1_10f0052a847drow2_col1\" class=\"data row2 col1\" >$4.61</td>\n",
       "                        <td id=\"T_82a27d8a_c4b8_11ea_b1e1_10f0052a847drow2_col2\" class=\"data row2 col2\" >$13.83</td>\n",
       "            </tr>\n",
       "            <tr>\n",
       "                        <th id=\"T_82a27d8a_c4b8_11ea_b1e1_10f0052a847dlevel0_row3\" class=\"row_heading level0 row3\" >Iral74</th>\n",
       "                        <td id=\"T_82a27d8a_c4b8_11ea_b1e1_10f0052a847drow3_col0\" class=\"data row3 col0\" >4</td>\n",
       "                        <td id=\"T_82a27d8a_c4b8_11ea_b1e1_10f0052a847drow3_col1\" class=\"data row3 col1\" >$3.40</td>\n",
       "                        <td id=\"T_82a27d8a_c4b8_11ea_b1e1_10f0052a847drow3_col2\" class=\"data row3 col2\" >$13.62</td>\n",
       "            </tr>\n",
       "            <tr>\n",
       "                        <th id=\"T_82a27d8a_c4b8_11ea_b1e1_10f0052a847dlevel0_row4\" class=\"row_heading level0 row4\" >Iskadarya95</th>\n",
       "                        <td id=\"T_82a27d8a_c4b8_11ea_b1e1_10f0052a847drow4_col0\" class=\"data row4 col0\" >3</td>\n",
       "                        <td id=\"T_82a27d8a_c4b8_11ea_b1e1_10f0052a847drow4_col1\" class=\"data row4 col1\" >$4.37</td>\n",
       "                        <td id=\"T_82a27d8a_c4b8_11ea_b1e1_10f0052a847drow4_col2\" class=\"data row4 col2\" >$13.10</td>\n",
       "            </tr>\n",
       "    </tbody></table>"
      ],
      "text/plain": [
       "<pandas.io.formats.style.Styler at 0x2088cf21c88>"
      ]
     },
     "execution_count": 28,
     "metadata": {},
     "output_type": "execute_result"
    }
   ],
   "source": [
    "Top_Spenders = pd.DataFrame({\"Purchase Count\": Purchase_Count_Spender,\n",
    "                             \"Average Purchase Price\": Average_Purchase_Price_Spender,\n",
    "                             \"Total Purchase Value\": Total_Purchase_Value_Spender})\n",
    "\n",
    "Top_Spenders_Formatted = Top_Spenders.sort_values([\"Total Purchase Value\"], ascending=False).head()\n",
    "\n",
    "Top_Spenders_Formatted.style.format({\"Average Purchase Total\":\"${:,.2f}\",\n",
    "                                 \"Average Purchase Price\":\"${:,.2f}\", \n",
    "                                 \"Total Purchase Value\":\"${:,.2f}\"})"
   ]
  },
  {
   "cell_type": "markdown",
   "metadata": {},
   "source": [
    "## Most Popular Items"
   ]
  },
  {
   "cell_type": "markdown",
   "metadata": {},
   "source": [
    "* Retrieve the Item ID, Item Name, and Item Price columns\n",
    "\n",
    "\n",
    "* Group by Item ID and Item Name. Perform calculations to obtain purchase count, item price, and total purchase value\n",
    "\n",
    "\n",
    "* Create a summary data frame to hold the results\n",
    "\n",
    "\n",
    "* Sort the purchase count column in descending order\n",
    "\n",
    "\n",
    "* Optional: give the displayed data cleaner formatting\n",
    "\n",
    "\n",
    "* Display a preview of the summary data frame\n",
    "\n"
   ]
  },
  {
   "cell_type": "code",
   "execution_count": 29,
   "metadata": {},
   "outputs": [],
   "source": [
    "Purchase_Count_byID_Name = purchase_df.groupby([\"Item ID\",\"Item Name\"])[\"Purchase ID\"].count()"
   ]
  },
  {
   "cell_type": "code",
   "execution_count": 30,
   "metadata": {},
   "outputs": [],
   "source": [
    "Item_Price_byID_Name = purchase_df.groupby([\"Item ID\",\"Item Name\"])[\"Price\"].mean()"
   ]
  },
  {
   "cell_type": "code",
   "execution_count": 31,
   "metadata": {},
   "outputs": [],
   "source": [
    "Total_Purchase_Value_byID_Name = purchase_df.groupby([\"Item ID\",\"Item Name\"])[\"Price\"].sum()"
   ]
  },
  {
   "cell_type": "code",
   "execution_count": 32,
   "metadata": {},
   "outputs": [
    {
     "data": {
      "text/html": [
       "<style  type=\"text/css\" >\n",
       "</style><table id=\"T_846b0af8_c4b8_11ea_8878_10f0052a847d\" ><thead>    <tr>        <th class=\"blank\" ></th>        <th class=\"blank level0\" ></th>        <th class=\"col_heading level0 col0\" >Purchase Count</th>        <th class=\"col_heading level0 col1\" >Item Price</th>        <th class=\"col_heading level0 col2\" >Total Purchase Value</th>    </tr>    <tr>        <th class=\"index_name level0\" >Item ID</th>        <th class=\"index_name level1\" >Item Name</th>        <th class=\"blank\" ></th>        <th class=\"blank\" ></th>        <th class=\"blank\" ></th>    </tr></thead><tbody>\n",
       "                <tr>\n",
       "                        <th id=\"T_846b0af8_c4b8_11ea_8878_10f0052a847dlevel0_row0\" class=\"row_heading level0 row0\" >92</th>\n",
       "                        <th id=\"T_846b0af8_c4b8_11ea_8878_10f0052a847dlevel1_row0\" class=\"row_heading level1 row0\" >Final Critic</th>\n",
       "                        <td id=\"T_846b0af8_c4b8_11ea_8878_10f0052a847drow0_col0\" class=\"data row0 col0\" >13</td>\n",
       "                        <td id=\"T_846b0af8_c4b8_11ea_8878_10f0052a847drow0_col1\" class=\"data row0 col1\" >$4.61</td>\n",
       "                        <td id=\"T_846b0af8_c4b8_11ea_8878_10f0052a847drow0_col2\" class=\"data row0 col2\" >$59.99</td>\n",
       "            </tr>\n",
       "            <tr>\n",
       "                        <th id=\"T_846b0af8_c4b8_11ea_8878_10f0052a847dlevel0_row1\" class=\"row_heading level0 row1\" >178</th>\n",
       "                        <th id=\"T_846b0af8_c4b8_11ea_8878_10f0052a847dlevel1_row1\" class=\"row_heading level1 row1\" >Oathbreaker, Last Hope of the Breaking Storm</th>\n",
       "                        <td id=\"T_846b0af8_c4b8_11ea_8878_10f0052a847drow1_col0\" class=\"data row1 col0\" >12</td>\n",
       "                        <td id=\"T_846b0af8_c4b8_11ea_8878_10f0052a847drow1_col1\" class=\"data row1 col1\" >$4.23</td>\n",
       "                        <td id=\"T_846b0af8_c4b8_11ea_8878_10f0052a847drow1_col2\" class=\"data row1 col2\" >$50.76</td>\n",
       "            </tr>\n",
       "            <tr>\n",
       "                        <th id=\"T_846b0af8_c4b8_11ea_8878_10f0052a847dlevel0_row2\" class=\"row_heading level0 row2\" >145</th>\n",
       "                        <th id=\"T_846b0af8_c4b8_11ea_8878_10f0052a847dlevel1_row2\" class=\"row_heading level1 row2\" >Fiery Glass Crusader</th>\n",
       "                        <td id=\"T_846b0af8_c4b8_11ea_8878_10f0052a847drow2_col0\" class=\"data row2 col0\" >9</td>\n",
       "                        <td id=\"T_846b0af8_c4b8_11ea_8878_10f0052a847drow2_col1\" class=\"data row2 col1\" >$4.58</td>\n",
       "                        <td id=\"T_846b0af8_c4b8_11ea_8878_10f0052a847drow2_col2\" class=\"data row2 col2\" >$41.22</td>\n",
       "            </tr>\n",
       "            <tr>\n",
       "                        <th id=\"T_846b0af8_c4b8_11ea_8878_10f0052a847dlevel0_row3\" class=\"row_heading level0 row3\" >132</th>\n",
       "                        <th id=\"T_846b0af8_c4b8_11ea_8878_10f0052a847dlevel1_row3\" class=\"row_heading level1 row3\" >Persuasion</th>\n",
       "                        <td id=\"T_846b0af8_c4b8_11ea_8878_10f0052a847drow3_col0\" class=\"data row3 col0\" >9</td>\n",
       "                        <td id=\"T_846b0af8_c4b8_11ea_8878_10f0052a847drow3_col1\" class=\"data row3 col1\" >$3.22</td>\n",
       "                        <td id=\"T_846b0af8_c4b8_11ea_8878_10f0052a847drow3_col2\" class=\"data row3 col2\" >$28.99</td>\n",
       "            </tr>\n",
       "            <tr>\n",
       "                        <th id=\"T_846b0af8_c4b8_11ea_8878_10f0052a847dlevel0_row4\" class=\"row_heading level0 row4\" >108</th>\n",
       "                        <th id=\"T_846b0af8_c4b8_11ea_8878_10f0052a847dlevel1_row4\" class=\"row_heading level1 row4\" >Extraction, Quickblade Of Trembling Hands</th>\n",
       "                        <td id=\"T_846b0af8_c4b8_11ea_8878_10f0052a847drow4_col0\" class=\"data row4 col0\" >9</td>\n",
       "                        <td id=\"T_846b0af8_c4b8_11ea_8878_10f0052a847drow4_col1\" class=\"data row4 col1\" >$3.53</td>\n",
       "                        <td id=\"T_846b0af8_c4b8_11ea_8878_10f0052a847drow4_col2\" class=\"data row4 col2\" >$31.77</td>\n",
       "            </tr>\n",
       "    </tbody></table>"
      ],
      "text/plain": [
       "<pandas.io.formats.style.Styler at 0x2088cf2a548>"
      ]
     },
     "execution_count": 32,
     "metadata": {},
     "output_type": "execute_result"
    }
   ],
   "source": [
    "MPopular_Items = pd.DataFrame({\"Purchase Count\": Purchase_Count_byID_Name,\n",
    "                             \"Item Price\": Item_Price_byID_Name,\n",
    "                             \"Total Purchase Value\": Total_Purchase_Value_byID_Name})\n",
    "\n",
    "MPopular_Items_Formatted = MPopular_Items.sort_values([\"Purchase Count\"], ascending=False).head()\n",
    "\n",
    "MPopular_Items_Formatted.style.format({\"Item Price\":\"${:,.2f}\",\n",
    "                                  \"Total Purchase Value\":\"${:,.2f}\"})"
   ]
  },
  {
   "cell_type": "markdown",
   "metadata": {},
   "source": [
    "## Most Profitable Items"
   ]
  },
  {
   "cell_type": "markdown",
   "metadata": {},
   "source": [
    "* Sort the above table by total purchase value in descending order\n",
    "\n",
    "\n",
    "* Optional: give the displayed data cleaner formatting\n",
    "\n",
    "\n",
    "* Display a preview of the data frame\n",
    "\n"
   ]
  },
  {
   "cell_type": "code",
   "execution_count": 33,
   "metadata": {
    "scrolled": true
   },
   "outputs": [
    {
     "data": {
      "text/html": [
       "<style  type=\"text/css\" >\n",
       "</style><table id=\"T_85433440_c4b8_11ea_90a5_10f0052a847d\" ><thead>    <tr>        <th class=\"blank\" ></th>        <th class=\"blank level0\" ></th>        <th class=\"col_heading level0 col0\" >Purchase Count</th>        <th class=\"col_heading level0 col1\" >Item Price</th>        <th class=\"col_heading level0 col2\" >Total Purchase Value</th>    </tr>    <tr>        <th class=\"index_name level0\" >Item ID</th>        <th class=\"index_name level1\" >Item Name</th>        <th class=\"blank\" ></th>        <th class=\"blank\" ></th>        <th class=\"blank\" ></th>    </tr></thead><tbody>\n",
       "                <tr>\n",
       "                        <th id=\"T_85433440_c4b8_11ea_90a5_10f0052a847dlevel0_row0\" class=\"row_heading level0 row0\" >92</th>\n",
       "                        <th id=\"T_85433440_c4b8_11ea_90a5_10f0052a847dlevel1_row0\" class=\"row_heading level1 row0\" >Final Critic</th>\n",
       "                        <td id=\"T_85433440_c4b8_11ea_90a5_10f0052a847drow0_col0\" class=\"data row0 col0\" >13</td>\n",
       "                        <td id=\"T_85433440_c4b8_11ea_90a5_10f0052a847drow0_col1\" class=\"data row0 col1\" >$4.61</td>\n",
       "                        <td id=\"T_85433440_c4b8_11ea_90a5_10f0052a847drow0_col2\" class=\"data row0 col2\" >$59.99</td>\n",
       "            </tr>\n",
       "            <tr>\n",
       "                        <th id=\"T_85433440_c4b8_11ea_90a5_10f0052a847dlevel0_row1\" class=\"row_heading level0 row1\" >178</th>\n",
       "                        <th id=\"T_85433440_c4b8_11ea_90a5_10f0052a847dlevel1_row1\" class=\"row_heading level1 row1\" >Oathbreaker, Last Hope of the Breaking Storm</th>\n",
       "                        <td id=\"T_85433440_c4b8_11ea_90a5_10f0052a847drow1_col0\" class=\"data row1 col0\" >12</td>\n",
       "                        <td id=\"T_85433440_c4b8_11ea_90a5_10f0052a847drow1_col1\" class=\"data row1 col1\" >$4.23</td>\n",
       "                        <td id=\"T_85433440_c4b8_11ea_90a5_10f0052a847drow1_col2\" class=\"data row1 col2\" >$50.76</td>\n",
       "            </tr>\n",
       "            <tr>\n",
       "                        <th id=\"T_85433440_c4b8_11ea_90a5_10f0052a847dlevel0_row2\" class=\"row_heading level0 row2\" >82</th>\n",
       "                        <th id=\"T_85433440_c4b8_11ea_90a5_10f0052a847dlevel1_row2\" class=\"row_heading level1 row2\" >Nirvana</th>\n",
       "                        <td id=\"T_85433440_c4b8_11ea_90a5_10f0052a847drow2_col0\" class=\"data row2 col0\" >9</td>\n",
       "                        <td id=\"T_85433440_c4b8_11ea_90a5_10f0052a847drow2_col1\" class=\"data row2 col1\" >$4.90</td>\n",
       "                        <td id=\"T_85433440_c4b8_11ea_90a5_10f0052a847drow2_col2\" class=\"data row2 col2\" >$44.10</td>\n",
       "            </tr>\n",
       "            <tr>\n",
       "                        <th id=\"T_85433440_c4b8_11ea_90a5_10f0052a847dlevel0_row3\" class=\"row_heading level0 row3\" >145</th>\n",
       "                        <th id=\"T_85433440_c4b8_11ea_90a5_10f0052a847dlevel1_row3\" class=\"row_heading level1 row3\" >Fiery Glass Crusader</th>\n",
       "                        <td id=\"T_85433440_c4b8_11ea_90a5_10f0052a847drow3_col0\" class=\"data row3 col0\" >9</td>\n",
       "                        <td id=\"T_85433440_c4b8_11ea_90a5_10f0052a847drow3_col1\" class=\"data row3 col1\" >$4.58</td>\n",
       "                        <td id=\"T_85433440_c4b8_11ea_90a5_10f0052a847drow3_col2\" class=\"data row3 col2\" >$41.22</td>\n",
       "            </tr>\n",
       "            <tr>\n",
       "                        <th id=\"T_85433440_c4b8_11ea_90a5_10f0052a847dlevel0_row4\" class=\"row_heading level0 row4\" >103</th>\n",
       "                        <th id=\"T_85433440_c4b8_11ea_90a5_10f0052a847dlevel1_row4\" class=\"row_heading level1 row4\" >Singed Scalpel</th>\n",
       "                        <td id=\"T_85433440_c4b8_11ea_90a5_10f0052a847drow4_col0\" class=\"data row4 col0\" >8</td>\n",
       "                        <td id=\"T_85433440_c4b8_11ea_90a5_10f0052a847drow4_col1\" class=\"data row4 col1\" >$4.35</td>\n",
       "                        <td id=\"T_85433440_c4b8_11ea_90a5_10f0052a847drow4_col2\" class=\"data row4 col2\" >$34.80</td>\n",
       "            </tr>\n",
       "    </tbody></table>"
      ],
      "text/plain": [
       "<pandas.io.formats.style.Styler at 0x2088cf28a48>"
      ]
     },
     "execution_count": 33,
     "metadata": {},
     "output_type": "execute_result"
    }
   ],
   "source": [
    "MProfitable_Items = pd.DataFrame({\"Purchase Count\": Purchase_Count_byID_Name,\n",
    "                             \"Item Price\": Item_Price_byID_Name,\n",
    "                             \"Total Purchase Value\": Total_Purchase_Value_byID_Name})\n",
    " \n",
    "MProfitable_Items_Formatted = MProfitable_Items.sort_values([\"Total Purchase Value\"], ascending=False).head()\n",
    "\n",
    "MProfitable_Items_Formatted.style.format({\"Item Price\":\"${:,.2f}\",\n",
    "                                  \"Total Purchase Value\":\"${:,.2f}\"})"
   ]
  }
 ],
 "metadata": {
  "anaconda-cloud": {},
  "kernel_info": {
   "name": "python3"
  },
  "kernelspec": {
   "display_name": "Python 3",
   "language": "python",
   "name": "python3"
  },
  "language_info": {
   "codemirror_mode": {
    "name": "ipython",
    "version": 3
   },
   "file_extension": ".py",
   "mimetype": "text/x-python",
   "name": "python",
   "nbconvert_exporter": "python",
   "pygments_lexer": "ipython3",
   "version": "3.7.6"
  },
  "latex_envs": {
   "LaTeX_envs_menu_present": true,
   "autoclose": false,
   "autocomplete": true,
   "bibliofile": "biblio.bib",
   "cite_by": "apalike",
   "current_citInitial": 1,
   "eqLabelWithNumbers": true,
   "eqNumInitial": 1,
   "hotkeys": {
    "equation": "Ctrl-E",
    "itemize": "Ctrl-I"
   },
   "labels_anchors": false,
   "latex_user_defs": false,
   "report_style_numbering": false,
   "user_envs_cfg": false
  },
  "nteract": {
   "version": "0.2.0"
  }
 },
 "nbformat": 4,
 "nbformat_minor": 2
}
